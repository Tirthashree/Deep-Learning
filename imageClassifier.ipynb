{
 "cells": [
  {
   "cell_type": "code",
   "execution_count": 1,
   "metadata": {},
   "outputs": [],
   "source": [
    "import pandas as pd\n",
    "import numpy as np\n",
    "from sklearn.utils import shuffle\n",
    "from sklearn.pipeline import make_pipeline\n",
    "from sklearn.preprocessing import StandardScaler\n",
    "from sklearn.svm import SVC\n",
    "from sklearn.metrics import confusion_matrix,accuracy_score\n",
    "from sklearn.model_selection import train_test_split"
   ]
  },
  {
   "cell_type": "code",
   "execution_count": 51,
   "metadata": {},
   "outputs": [
    {
     "name": "stdout",
     "output_type": "stream",
     "text": [
      "(150, 32)\n",
      "(150, 32)\n"
     ]
    }
   ],
   "source": [
    "x_train = pd.read_csv('C:/Users/Tirthashree/Documents/MTech/Notes/DLA/trainBoVW.csv',header=None)\n",
    "print(x_train.shape)\n",
    "y_train = np.array([0]*50+[1]*50+[2]*50)\n",
    "x_test = pd.read_csv('C:/Users/Tirthashree/Documents/MTech/Notes/DLA/testBoVW.csv',header=None)\n",
    "print(x_test.shape)\n",
    "y_test = np.array([0]*50+[1]*50+[2]*50)"
   ]
  },
  {
   "cell_type": "code",
   "execution_count": 59,
   "metadata": {},
   "outputs": [
    {
     "name": "stdout",
     "output_type": "stream",
     "text": [
      "Training data:\n",
      "accuracy: 76.66666666666667\n",
      "confusion matrix:\n",
      " [[44  1  5]\n",
      " [15 29  6]\n",
      " [ 2  6 42]]\n",
      "Test data\n",
      "accuracy: 66.0\n",
      "confusion matrix:\n",
      " [[43  2  5]\n",
      " [19 24  7]\n",
      " [10  8 32]]\n"
     ]
    }
   ],
   "source": [
    "clf = make_pipeline(StandardScaler(), SVC(C=0.01,gamma='scale'))\n",
    "clf.fit(x_train, y_train)\n",
    "print('Training data:')\n",
    "y_pred_train = clf.predict(x_train)\n",
    "print('accuracy:',100*accuracy_score(y_train,y_pred_train))\n",
    "print('confusion matrix:\\n',confusion_matrix(y_train,y_pred_train))\n",
    "print('Test data')\n",
    "y_pred = clf.predict(x_test)\n",
    "print('accuracy:',100*accuracy_score(y_test,y_pred))\n",
    "print('confusion matrix:\\n',confusion_matrix(y_test,y_pred))"
   ]
  },
  {
   "cell_type": "code",
   "execution_count": 60,
   "metadata": {},
   "outputs": [
    {
     "name": "stdout",
     "output_type": "stream",
     "text": [
      "Training data:\n",
      "accuracy: 73.33333333333333\n",
      "confusion matrix:\n",
      " [[44  2  4]\n",
      " [17 24  9]\n",
      " [ 5  3 42]]\n",
      "Test data\n",
      "accuracy: 65.33333333333333\n",
      "confusion matrix:\n",
      " [[42  5  3]\n",
      " [15 20 15]\n",
      " [ 5  9 36]]\n"
     ]
    },
    {
     "data": {
      "text/plain": [
       "0"
      ]
     },
     "execution_count": 60,
     "metadata": {},
     "output_type": "execute_result"
    }
   ],
   "source": [
    "clf1 = SVC(C=0.01,kernel = 'rbf',gamma='scale')\n",
    "clf1.fit(x_train, y_train)\n",
    "print('Training data:')\n",
    "y_pred_train = clf1.predict(x_train)\n",
    "print('accuracy:',100*accuracy_score(y_train,y_pred_train))\n",
    "print('confusion matrix:\\n',confusion_matrix(y_train,y_pred_train))\n",
    "print('Test data')\n",
    "y_pred = clf1.predict(x_test)\n",
    "print('accuracy:',100*accuracy_score(y_test,y_pred))\n",
    "print('confusion matrix:\\n',confusion_matrix(y_test,y_pred))\n",
    "clf1.fit_status_"
   ]
  },
  {
   "cell_type": "code",
   "execution_count": 5,
   "metadata": {},
   "outputs": [],
   "source": [
    "# df_train = pd.read_csv('C:/Users/Tirthashree/Documents/MTech/Notes/DLA/trainBoVW.csv',header=None)\n",
    "# df_train.columns = ['f01','f02','f03','f04','f05','f06','f07','f08','f09','f10','f11','f12','f13','f14','f15','f16','f17','f18','f19','f20','f21','f22','f23','f24','f25','f26','f27','f28','f29','f30','f31','f32']\n",
    "# df_train['y'] = np.array([0]*50+[1]*50+[2]*50)\n",
    "# df_train = shuffle(df_train)\n",
    "\n",
    "# df_test = pd.read_csv('C:/Users/Tirthashree/Documents/MTech/Notes/DLA/testBoVW.csv',header=None)\n",
    "# df_test.columns = ['f01','f02','f03','f04','f05','f06','f07','f08','f09','f10','f11','f12','f13','f14','f15','f16','f17','f18','f19','f20','f21','f22','f23','f24','f25','f26','f27','f28','f29','f30','f31','f32']\n",
    "# df_test['y'] = np.array([0]*50+[1]*50+[2]*50)\n",
    "# df_test = shuffle(df_test)"
   ]
  },
  {
   "cell_type": "code",
   "execution_count": 6,
   "metadata": {},
   "outputs": [
    {
     "name": "stdout",
     "output_type": "stream",
     "text": [
      "Training data:\n",
      "accuracy: 87.33333333333333\n",
      "confusion matrix:\n",
      " [[44  2  4]\n",
      " [ 6 39  5]\n",
      " [ 0  2 48]]\n",
      "Test data\n",
      "accuracy: 65.33333333333333\n",
      "confusion matrix:\n",
      " [[39  5  6]\n",
      " [14 22 14]\n",
      " [ 3 10 37]]\n"
     ]
    },
    {
     "data": {
      "text/plain": [
       "0"
      ]
     },
     "execution_count": 6,
     "metadata": {},
     "output_type": "execute_result"
    }
   ],
   "source": [
    "# clf2 = SVC(kernel = 'rbf',gamma='scale')\n",
    "# clf2.fit(df_train.iloc[:,0:32], df_train.iloc[:,32])\n",
    "# print('Training data:')\n",
    "# df_pred_train = clf2.predict(df_train.iloc[:,0:32])\n",
    "# print('accuracy:',100*accuracy_score(df_train.iloc[:,32],df_pred_train))\n",
    "# print('confusion matrix:\\n',confusion_matrix(df_train.iloc[:,32],df_pred_train))\n",
    "\n",
    "# print('Test data')\n",
    "# df_pred = clf2.predict(df_test.iloc[:,0:32])\n",
    "# print('accuracy:',100*accuracy_score(df_test.iloc[:,32],df_pred))\n",
    "# print('confusion matrix:\\n',confusion_matrix(df_test.iloc[:,32],df_pred))\n",
    "# clf2.fit_status_"
   ]
  },
  {
   "cell_type": "code",
   "execution_count": 58,
   "metadata": {
    "scrolled": true
   },
   "outputs": [
    {
     "name": "stdout",
     "output_type": "stream",
     "text": [
      " \n",
      "Training data:\n",
      "accuracy: 50.66666666666667\n",
      "confusion matrix:\n",
      " [[20  0 37]\n",
      " [ 0  6 37]\n",
      " [ 0  0 50]]\n",
      "Test data\n",
      "accuracy: 42.0\n",
      "confusion matrix:\n",
      " [[ 8  2 33]\n",
      " [ 2  5 50]\n",
      " [ 0  0 50]]\n"
     ]
    }
   ],
   "source": [
    "# df = pd.concat([df_train,df_test])\n",
    "# X = df.iloc[:,0:32]\n",
    "# Y = df.iloc[:,32]\n",
    "# X_train, X_test, Y_train, Y_test = train_test_split(X, Y, test_size=0.5, random_state=42)\n",
    "\n",
    "# # print(' ')\n",
    "# # clf3 = make_pipeline(StandardScaler(), SVC(gamma='scale'))\n",
    "# # clf3.fit(X_train, Y_train)\n",
    "# # print('Training data:')\n",
    "# # Y_pred_train = clf3.predict(X_train)\n",
    "# # print('accuracy:',100*accuracy_score(Y_train,Y_pred_train))\n",
    "# # print('confusion matrix:\\n',confusion_matrix(Y_train,Y_pred_train))\n",
    "# # print('Test data')\n",
    "# # Y_pred = clf3.predict(X_test)\n",
    "# # print('accuracy:',100*accuracy_score(Y_test,Y_pred))\n",
    "# # print('confusion matrix:\\n',confusion_matrix(Y_test,Y_pred))\n",
    "\n",
    "# print(' ')\n",
    "# clf4 = make_pipeline(StandardScaler(), SVC(C=0.1,kernel = 'poly',degree=4,gamma='scale'))\n",
    "# clf4.fit(X_train, Y_train)\n",
    "# print('Training data:')\n",
    "# Y_pred_train = clf4.predict(X_train)\n",
    "# print('accuracy:',100*accuracy_score(Y_train,Y_pred_train))\n",
    "# print('confusion matrix:\\n',confusion_matrix(Y_train,Y_pred_train))\n",
    "# print('Test data')\n",
    "# Y_pred = clf4.predict(X_test)\n",
    "# print('accuracy:',100*accuracy_score(Y_test,Y_pred))\n",
    "# print('confusion matrix:\\n',confusion_matrix(Y_test,Y_pred))\n",
    "# # clf4.fit_status_"
   ]
  },
  {
   "cell_type": "code",
   "execution_count": null,
   "metadata": {},
   "outputs": [],
   "source": []
  }
 ],
 "metadata": {
  "kernelspec": {
   "display_name": "Python 3",
   "language": "python",
   "name": "python3"
  },
  "language_info": {
   "codemirror_mode": {
    "name": "ipython",
    "version": 3
   },
   "file_extension": ".py",
   "mimetype": "text/x-python",
   "name": "python",
   "nbconvert_exporter": "python",
   "pygments_lexer": "ipython3",
   "version": "3.7.9"
  }
 },
 "nbformat": 4,
 "nbformat_minor": 4
}
